{
 "cells": [
  {
   "cell_type": "markdown",
   "metadata": {},
   "source": [
    "# Classificatore_V2\n",
    "created by [@M.Griot](https://github.com/MGriot)"
   ]
  },
  {
   "cell_type": "markdown",
   "metadata": {},
   "source": [
    "## Import the necessary libraries and the function to be used"
   ]
  },
  {
   "cell_type": "code",
   "execution_count": 1,
   "metadata": {},
   "outputs": [],
   "source": [
    "import pandas as pd\n",
    "\n",
    "from get_class import get_class\n"
   ]
  },
  {
   "cell_type": "markdown",
   "metadata": {},
   "source": [
    "## Load the data in database and input file"
   ]
  },
  {
   "cell_type": "code",
   "execution_count": 2,
   "metadata": {},
   "outputs": [],
   "source": [
    "database = pd.read_excel(\"Database.xlsx\")\n",
    "input = pd.read_excel(\"Input.xlsx\")\n"
   ]
  },
  {
   "cell_type": "markdown",
   "metadata": {},
   "source": [
    "## Run the classification and get the results"
   ]
  },
  {
   "cell_type": "code",
   "execution_count": 3,
   "metadata": {},
   "outputs": [
    {
     "name": "stdout",
     "output_type": "stream",
     "text": [
      "Starting the classification process...\n",
      "I start removing compounds in the input that don't suit the parameters.\n"
     ]
    },
    {
     "name": "stderr",
     "output_type": "stream",
     "text": [
      "100%|██████████| 412/412 [00:00<00:00, 51509.87it/s]\n"
     ]
    },
    {
     "name": "stdout",
     "output_type": "stream",
     "text": [
      "File \"Dropped_compounds.xlsx\" alredy exists in this directory.\n",
      "If you want to obtain a new one, delete it.\n",
      "\n",
      "I begin to classify the input compounds based on the database.\n"
     ]
    },
    {
     "name": "stderr",
     "output_type": "stream",
     "text": [
      "100%|██████████| 228/228 [00:00<00:00, 3677.64it/s]"
     ]
    },
    {
     "name": "stdout",
     "output_type": "stream",
     "text": [
      "Report of your input after the classification:\n",
      "Unknown                88\n",
      "Ketones and Etheres    49\n",
      "Alkyl Phenols          28\n",
      "Guaiacols              17\n",
      "Aromatics              12\n",
      "OAR                     9\n",
      "Acid                    9\n",
      "Syringol                8\n",
      "Furans                  3\n",
      "Catechol                3\n",
      "Sugars                  1\n",
      "Methoxybenzenes         1\n",
      "Name: Class, dtype: int64\n",
      "\n",
      "File \"Classified_compounds.xlsx\" alredy exists in this directory.\n",
      "If you want to obtain a new one, delete it.\n",
      "\n",
      "See you next time ;)\n"
     ]
    },
    {
     "name": "stderr",
     "output_type": "stream",
     "text": [
      "\n"
     ]
    }
   ],
   "source": [
    "get_class(database=database, input=input, save_dropped_compounds=True)\n"
   ]
  }
 ],
 "metadata": {
  "kernelspec": {
   "display_name": "Python 3.9.7 ('base')",
   "language": "python",
   "name": "python3"
  },
  "language_info": {
   "codemirror_mode": {
    "name": "ipython",
    "version": 3
   },
   "file_extension": ".py",
   "mimetype": "text/x-python",
   "name": "python",
   "nbconvert_exporter": "python",
   "pygments_lexer": "ipython3",
   "version": "3.9.7"
  },
  "orig_nbformat": 4,
  "vscode": {
   "interpreter": {
    "hash": "ced987a247890006fadb174404bf884c2606133e9ca5a8bdda00b49ca7b4dc36"
   }
  }
 },
 "nbformat": 4,
 "nbformat_minor": 2
}
