{
 "cells": [
  {
   "cell_type": "markdown",
   "metadata": {},
   "source": [
    "# Classificatore mediante lista"
   ]
  },
  {
   "cell_type": "markdown",
   "metadata": {},
   "source": [
    "Importo le librerie necessarie per lavorare con i dati."
   ]
  },
  {
   "cell_type": "code",
   "execution_count": 58,
   "metadata": {},
   "outputs": [],
   "source": [
    "import pandas as pd\n",
    "from tqdm import tqdm\n",
    "import os.path\n"
   ]
  },
  {
   "cell_type": "markdown",
   "metadata": {},
   "source": [
    "## Carico il dataset"
   ]
  },
  {
   "cell_type": "code",
   "execution_count": 9,
   "metadata": {},
   "outputs": [
    {
     "data": {
      "text/html": [
       "<div><div id=530e634e-a6a6-4128-b677-1916c64bb352 style=\"display:none; background-color:#9D6CFF; color:white; width:200px; height:30px; padding-left:5px; border-radius:4px; flex-direction:row; justify-content:space-around; align-items:center;\" onmouseover=\"this.style.backgroundColor='#BA9BF8'\" onmouseout=\"this.style.backgroundColor='#9D6CFF'\" onclick=\"window.commands?.execute('create-mitosheet-from-dataframe-output');\">See Full Dataframe in Mito</div> <script> if (window.commands.hasCommand('create-mitosheet-from-dataframe-output')) document.getElementById('530e634e-a6a6-4128-b677-1916c64bb352').style.display = 'flex' </script> <table border=\"1\" class=\"dataframe\">\n",
       "  <thead>\n",
       "    <tr style=\"text-align: right;\">\n",
       "      <th></th>\n",
       "      <th>Id</th>\n",
       "      <th>Compound</th>\n",
       "      <th>Class</th>\n",
       "    </tr>\n",
       "  </thead>\n",
       "  <tbody>\n",
       "    <tr>\n",
       "      <th>0</th>\n",
       "      <td>1</td>\n",
       "      <td>acido cloridrico</td>\n",
       "      <td>acido</td>\n",
       "    </tr>\n",
       "    <tr>\n",
       "      <th>1</th>\n",
       "      <td>2</td>\n",
       "      <td>idrossido di sodio</td>\n",
       "      <td>base</td>\n",
       "    </tr>\n",
       "    <tr>\n",
       "      <th>2</th>\n",
       "      <td>3</td>\n",
       "      <td>etanolo</td>\n",
       "      <td>alcol</td>\n",
       "    </tr>\n",
       "    <tr>\n",
       "      <th>3</th>\n",
       "      <td>4</td>\n",
       "      <td>metanolo</td>\n",
       "      <td>alcol</td>\n",
       "    </tr>\n",
       "    <tr>\n",
       "      <th>4</th>\n",
       "      <td>5</td>\n",
       "      <td>fenolo</td>\n",
       "      <td>alcol</td>\n",
       "    </tr>\n",
       "    <tr>\n",
       "      <th>...</th>\n",
       "      <td>...</td>\n",
       "      <td>...</td>\n",
       "      <td>...</td>\n",
       "    </tr>\n",
       "    <tr>\n",
       "      <th>7</th>\n",
       "      <td>8</td>\n",
       "      <td>acido acetico</td>\n",
       "      <td>acido</td>\n",
       "    </tr>\n",
       "    <tr>\n",
       "      <th>8</th>\n",
       "      <td>9</td>\n",
       "      <td>mercurio</td>\n",
       "      <td>metallo</td>\n",
       "    </tr>\n",
       "    <tr>\n",
       "      <th>9</th>\n",
       "      <td>10</td>\n",
       "      <td>cromo</td>\n",
       "      <td>metallo</td>\n",
       "    </tr>\n",
       "    <tr>\n",
       "      <th>10</th>\n",
       "      <td>11</td>\n",
       "      <td>acqua</td>\n",
       "      <td>acqua</td>\n",
       "    </tr>\n",
       "    <tr>\n",
       "      <th>11</th>\n",
       "      <td>12</td>\n",
       "      <td>cloruro di sodio</td>\n",
       "      <td>sale</td>\n",
       "    </tr>\n",
       "  </tbody>\n",
       "</table></div>"
      ],
      "text/plain": [
       "    Id            Compound      Class\n",
       "0    1    acido cloridrico      acido\n",
       "1    2  idrossido di sodio       base\n",
       "2    3             etanolo      alcol\n",
       "3    4            metanolo      alcol\n",
       "4    5              fenolo      alcol\n",
       "5    6             benzene  aromatico\n",
       "6    7           ammoniaca       base\n",
       "7    8       acido acetico      acido\n",
       "8    9            mercurio    metallo\n",
       "9   10               cromo    metallo\n",
       "10  11               acqua      acqua\n",
       "11  12    cloruro di sodio       sale"
      ]
     },
     "execution_count": 9,
     "metadata": {},
     "output_type": "execute_result"
    }
   ],
   "source": [
    "database = pd.read_excel(\"Database.xlsx\")\n",
    "database\n"
   ]
  },
  {
   "cell_type": "markdown",
   "metadata": {},
   "source": [
    "## Carico il file di input con i dati da classificare"
   ]
  },
  {
   "cell_type": "code",
   "execution_count": 10,
   "metadata": {},
   "outputs": [
    {
     "data": {
      "text/html": [
       "<div><div id=ce743ac9-f274-4536-b2c1-6bc530ed31af style=\"display:none; background-color:#9D6CFF; color:white; width:200px; height:30px; padding-left:5px; border-radius:4px; flex-direction:row; justify-content:space-around; align-items:center;\" onmouseover=\"this.style.backgroundColor='#BA9BF8'\" onmouseout=\"this.style.backgroundColor='#9D6CFF'\" onclick=\"window.commands?.execute('create-mitosheet-from-dataframe-output');\">See Full Dataframe in Mito</div> <script> if (window.commands.hasCommand('create-mitosheet-from-dataframe-output')) document.getElementById('ce743ac9-f274-4536-b2c1-6bc530ed31af').style.display = 'flex' </script> <table border=\"1\" class=\"dataframe\">\n",
       "  <thead>\n",
       "    <tr style=\"text-align: right;\">\n",
       "      <th></th>\n",
       "      <th>Compound</th>\n",
       "    </tr>\n",
       "  </thead>\n",
       "  <tbody>\n",
       "    <tr>\n",
       "      <th>0</th>\n",
       "      <td>acido cloridrico</td>\n",
       "    </tr>\n",
       "    <tr>\n",
       "      <th>1</th>\n",
       "      <td>idrossido di sodio</td>\n",
       "    </tr>\n",
       "    <tr>\n",
       "      <th>2</th>\n",
       "      <td>etanolo</td>\n",
       "    </tr>\n",
       "    <tr>\n",
       "      <th>3</th>\n",
       "      <td>metanolo</td>\n",
       "    </tr>\n",
       "    <tr>\n",
       "      <th>4</th>\n",
       "      <td>fenolo</td>\n",
       "    </tr>\n",
       "    <tr>\n",
       "      <th>...</th>\n",
       "      <td>...</td>\n",
       "    </tr>\n",
       "    <tr>\n",
       "      <th>6</th>\n",
       "      <td>ammoniaca</td>\n",
       "    </tr>\n",
       "    <tr>\n",
       "      <th>7</th>\n",
       "      <td>acido acetico</td>\n",
       "    </tr>\n",
       "    <tr>\n",
       "      <th>8</th>\n",
       "      <td>mercurio</td>\n",
       "    </tr>\n",
       "    <tr>\n",
       "      <th>9</th>\n",
       "      <td>cromo</td>\n",
       "    </tr>\n",
       "    <tr>\n",
       "      <th>10</th>\n",
       "      <td>cloruro di ammonio</td>\n",
       "    </tr>\n",
       "  </tbody>\n",
       "</table></div>"
      ],
      "text/plain": [
       "              Compound\n",
       "0     acido cloridrico\n",
       "1   idrossido di sodio\n",
       "2              etanolo\n",
       "3             metanolo\n",
       "4               fenolo\n",
       "5              benzene\n",
       "6            ammoniaca\n",
       "7        acido acetico\n",
       "8             mercurio\n",
       "9                cromo\n",
       "10  cloruro di ammonio"
      ]
     },
     "execution_count": 10,
     "metadata": {},
     "output_type": "execute_result"
    }
   ],
   "source": [
    "input = pd.read_excel(\"Input.xlsx\")\n",
    "input\n"
   ]
  },
  {
   "cell_type": "markdown",
   "metadata": {},
   "source": [
    "## Creole liste da popolare con i dati dopo il sorting"
   ]
  },
  {
   "cell_type": "code",
   "execution_count": 34,
   "metadata": {},
   "outputs": [],
   "source": [
    "compounds=[]\n",
    "class_compounds=[]"
   ]
  },
  {
   "cell_type": "markdown",
   "metadata": {},
   "source": [
    "## Faccio il sorting dei dati e vedo se i composti in Input sono presenti in Database1 e come sono etichettati"
   ]
  },
  {
   "cell_type": "code",
   "execution_count": 55,
   "metadata": {},
   "outputs": [
    {
     "name": "stderr",
     "output_type": "stream",
     "text": [
      "100%|██████████| 11/11 [00:00<00:00, 1832.74it/s]\n"
     ]
    }
   ],
   "source": [
    "for i in tqdm(input[\"Compound\"]):\n",
    "    compounds.append(i)\n",
    "    if i in database[\"Compound\"].to_numpy():\n",
    "        class_compounds.append(\n",
    "            database[\"Class\"][database[database[\"Compound\"] == i].index[0]])\n",
    "    else:\n",
    "        class_compounds.append(\"Unknown\")\n"
   ]
  },
  {
   "cell_type": "code",
   "execution_count": 51,
   "metadata": {},
   "outputs": [
    {
     "data": {
      "text/html": [
       "<div><div id=e3b4af34-d6cf-44e5-a0b2-782f6f11f3dc style=\"display:none; background-color:#9D6CFF; color:white; width:200px; height:30px; padding-left:5px; border-radius:4px; flex-direction:row; justify-content:space-around; align-items:center;\" onmouseover=\"this.style.backgroundColor='#BA9BF8'\" onmouseout=\"this.style.backgroundColor='#9D6CFF'\" onclick=\"window.commands?.execute('create-mitosheet-from-dataframe-output');\">See Full Dataframe in Mito</div> <script> if (window.commands.hasCommand('create-mitosheet-from-dataframe-output')) document.getElementById('e3b4af34-d6cf-44e5-a0b2-782f6f11f3dc').style.display = 'flex' </script> <table border=\"1\" class=\"dataframe\">\n",
       "  <thead>\n",
       "    <tr style=\"text-align: right;\">\n",
       "      <th></th>\n",
       "      <th>Compound</th>\n",
       "      <th>Class</th>\n",
       "    </tr>\n",
       "  </thead>\n",
       "  <tbody>\n",
       "    <tr>\n",
       "      <th>0</th>\n",
       "      <td>acido cloridrico</td>\n",
       "      <td>acido</td>\n",
       "    </tr>\n",
       "    <tr>\n",
       "      <th>1</th>\n",
       "      <td>acido cloridrico</td>\n",
       "      <td>base</td>\n",
       "    </tr>\n",
       "    <tr>\n",
       "      <th>2</th>\n",
       "      <td>idrossido di sodio</td>\n",
       "      <td>alcol</td>\n",
       "    </tr>\n",
       "    <tr>\n",
       "      <th>3</th>\n",
       "      <td>etanolo</td>\n",
       "      <td>alcol</td>\n",
       "    </tr>\n",
       "    <tr>\n",
       "      <th>4</th>\n",
       "      <td>metanolo</td>\n",
       "      <td>alcol</td>\n",
       "    </tr>\n",
       "    <tr>\n",
       "      <th>...</th>\n",
       "      <td>...</td>\n",
       "      <td>...</td>\n",
       "    </tr>\n",
       "    <tr>\n",
       "      <th>6</th>\n",
       "      <td>benzene</td>\n",
       "      <td>base</td>\n",
       "    </tr>\n",
       "    <tr>\n",
       "      <th>7</th>\n",
       "      <td>ammoniaca</td>\n",
       "      <td>acido</td>\n",
       "    </tr>\n",
       "    <tr>\n",
       "      <th>8</th>\n",
       "      <td>acido acetico</td>\n",
       "      <td>metallo</td>\n",
       "    </tr>\n",
       "    <tr>\n",
       "      <th>9</th>\n",
       "      <td>mercurio</td>\n",
       "      <td>metallo</td>\n",
       "    </tr>\n",
       "    <tr>\n",
       "      <th>10</th>\n",
       "      <td>cromo</td>\n",
       "      <td>Unknown</td>\n",
       "    </tr>\n",
       "  </tbody>\n",
       "</table></div>"
      ],
      "text/plain": [
       "              Compound      Class\n",
       "0     acido cloridrico      acido\n",
       "1     acido cloridrico       base\n",
       "2   idrossido di sodio      alcol\n",
       "3              etanolo      alcol\n",
       "4             metanolo      alcol\n",
       "5               fenolo  aromatico\n",
       "6              benzene       base\n",
       "7            ammoniaca      acido\n",
       "8        acido acetico    metallo\n",
       "9             mercurio    metallo\n",
       "10               cromo    Unknown"
      ]
     },
     "execution_count": 51,
     "metadata": {},
     "output_type": "execute_result"
    }
   ],
   "source": [
    "output=pd.DataFrame(list(zip(compounds,class_compounds)),columns=[\"Compound\",\"Class\"])\n",
    "output"
   ]
  },
  {
   "cell_type": "code",
   "execution_count": 65,
   "metadata": {},
   "outputs": [
    {
     "data": {
      "text/plain": [
       "alcol        24\n",
       "acido        16\n",
       "base         16\n",
       "metallo      16\n",
       "aromatico     8\n",
       "Unknown       8\n",
       "Name: Class, dtype: int64"
      ]
     },
     "execution_count": 65,
     "metadata": {},
     "output_type": "execute_result"
    }
   ],
   "source": [
    "output[\"Class\"].value_counts()"
   ]
  },
  {
   "cell_type": "code",
   "execution_count": 56,
   "metadata": {},
   "outputs": [],
   "source": [
    "output.to_excel(\"Output.xlsx\")"
   ]
  },
  {
   "cell_type": "markdown",
   "metadata": {},
   "source": [
    "# Codice unico"
   ]
  },
  {
   "cell_type": "code",
   "execution_count": 98,
   "metadata": {},
   "outputs": [],
   "source": [
    "def get_class(database=pd.read_excel(\"Database.xlsx\"), input=pd.read_excel(\"Input.xlsx\")):\n",
    "    #\n",
    "    # Funzione per classificare in automatico i dati in base ai parametri contenuti nel database\n",
    "    #\n",
    "    # database: database su cui si basa la classificazione\n",
    "    # input: dati di output\n",
    "    # output: dati classificati\n",
    "    #\n",
    "\n",
    "    #liste vuote usate nella classificazione\n",
    "    compounds = []  # lista di tutti i composti\n",
    "    class_compounds = []  # lista di tutte le classi dei composti\n",
    "\n",
    "    for i in tqdm(input[\"Compound\"]):  # leggo i composti dall'input\n",
    "        # aggiungo il nome del i composto nella lista dei composti\n",
    "        compounds.append(i)\n",
    "        # controllo se il composto i è presente nel database, se si aggiungo la classe conosciuta\n",
    "        if i in database[\"Compound\"].to_numpy():\n",
    "            class_compounds.append(\n",
    "                database[\"Class\"][database[database[\"Compound\"] == i].index[0]])\n",
    "        else:  # se no, classifica il composto come sconosciuto\n",
    "            class_compounds.append(\"Unknown\")\n",
    "\n",
    "    output = pd.DataFrame(list(zip(compounds, class_compounds)),\n",
    "                          columns=[\"Compound\", \"Class\"])  # creo il dataframe con i dati classificati\n",
    "\n",
    "    print(\"Report of your input:\")\n",
    "    # print della descrizione dei composti classificati\n",
    "    print(output[\"Class\"].value_counts())\n",
    "    print(\"\\n\")\n",
    "\n",
    "    if os.path.isfile('Output.xlsx'):  # controllo se esiste già un file di output\n",
    "        print(\"File \\\"Output.xlsx\\\" alredy exists in this directory.\\nIf you want to obtain a new one, delete it.\")\n",
    "    else:\n",
    "        print(\"File \\\"Output.xlsx\\\" will be saved in this directory.\")\n",
    "        # converto il dataframe in un file excel\n",
    "        output.to_excel(\"Output.xlsx\")\n",
    "\n",
    "    print(\"\\nSee you next time ;)\")\n",
    "\n"
   ]
  },
  {
   "cell_type": "code",
   "execution_count": 99,
   "metadata": {},
   "outputs": [
    {
     "name": "stderr",
     "output_type": "stream",
     "text": [
      "100%|██████████| 11/11 [00:00<00:00, 2202.05it/s]"
     ]
    },
    {
     "name": "stdout",
     "output_type": "stream",
     "text": [
      "Report of your input:\n",
      "alcol        3\n",
      "acido        2\n",
      "base         2\n",
      "metallo      2\n",
      "aromatico    1\n",
      "Unknown      1\n",
      "Name: Class, dtype: int64\n",
      "\n",
      "\n",
      "File \"Output.xlsx\" alredy exists in this directory.\n",
      "If you want to obtain a new one, delete it.\n",
      "\n",
      "See you next time ;)\n"
     ]
    },
    {
     "name": "stderr",
     "output_type": "stream",
     "text": [
      "\n"
     ]
    }
   ],
   "source": [
    "get_class()"
   ]
  },
  {
   "cell_type": "code",
   "execution_count": null,
   "metadata": {},
   "outputs": [],
   "source": []
  }
 ],
 "metadata": {
  "kernelspec": {
   "display_name": "Python 3.9.7 ('base')",
   "language": "python",
   "name": "python3"
  },
  "language_info": {
   "codemirror_mode": {
    "name": "ipython",
    "version": 3
   },
   "file_extension": ".py",
   "mimetype": "text/x-python",
   "name": "python",
   "nbconvert_exporter": "python",
   "pygments_lexer": "ipython3",
   "version": "3.9.7"
  },
  "orig_nbformat": 4,
  "vscode": {
   "interpreter": {
    "hash": "ced987a247890006fadb174404bf884c2606133e9ca5a8bdda00b49ca7b4dc36"
   }
  }
 },
 "nbformat": 4,
 "nbformat_minor": 2
}
