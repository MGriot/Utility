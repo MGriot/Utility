{
 "cells": [
  {
   "cell_type": "markdown",
   "metadata": {},
   "source": [
    "# Classificatore mediante lista"
   ]
  },
  {
   "cell_type": "markdown",
   "metadata": {},
   "source": [
    "Importo le librerie necessarie per lavorare con i dati."
   ]
  },
  {
   "cell_type": "code",
   "execution_count": 1,
   "metadata": {},
   "outputs": [],
   "source": [
    "import pandas as pd\n",
    "import numpy as np\n",
    "from tqdm import tqdm\n",
    "import os.path\n",
    "import re\n"
   ]
  },
  {
   "cell_type": "markdown",
   "metadata": {},
   "source": [
    "## Carico il dataset"
   ]
  },
  {
   "cell_type": "code",
   "execution_count": 3,
   "metadata": {},
   "outputs": [
    {
     "data": {
      "text/html": [
       "<div><div id=33dfbe19-e25d-48ce-b920-b45dde018ecc style=\"display:none; background-color:#9D6CFF; color:white; width:200px; height:30px; padding-left:5px; border-radius:4px; flex-direction:row; justify-content:space-around; align-items:center;\" onmouseover=\"this.style.backgroundColor='#BA9BF8'\" onmouseout=\"this.style.backgroundColor='#9D6CFF'\" onclick=\"window.commands?.execute('create-mitosheet-from-dataframe-output');\">See Full Dataframe in Mito</div> <script> if (window.commands.hasCommand('create-mitosheet-from-dataframe-output')) document.getElementById('33dfbe19-e25d-48ce-b920-b45dde018ecc').style.display = 'flex' </script> <table border=\"1\" class=\"dataframe\">\n",
       "  <thead>\n",
       "    <tr style=\"text-align: right;\">\n",
       "      <th></th>\n",
       "      <th>Compound</th>\n",
       "      <th>Class</th>\n",
       "    </tr>\n",
       "  </thead>\n",
       "  <tbody>\n",
       "    <tr>\n",
       "      <th>0</th>\n",
       "      <td>1,2,4-Benzenetricarboxylic acid, 1,2-dimethyl ester</td>\n",
       "      <td>Acid</td>\n",
       "    </tr>\n",
       "    <tr>\n",
       "      <th>1</th>\n",
       "      <td>1,3-Benzenediol, 4,5-dimethyl-</td>\n",
       "      <td>Acid</td>\n",
       "    </tr>\n",
       "    <tr>\n",
       "      <th>2</th>\n",
       "      <td>2-Propenoic acid</td>\n",
       "      <td>Acid</td>\n",
       "    </tr>\n",
       "    <tr>\n",
       "      <th>3</th>\n",
       "      <td>Acetic acid</td>\n",
       "      <td>Acid</td>\n",
       "    </tr>\n",
       "    <tr>\n",
       "      <th>4</th>\n",
       "      <td>Butanoic acid</td>\n",
       "      <td>Acid</td>\n",
       "    </tr>\n",
       "    <tr>\n",
       "      <th>...</th>\n",
       "      <td>...</td>\n",
       "      <td>...</td>\n",
       "    </tr>\n",
       "    <tr>\n",
       "      <th>281</th>\n",
       "      <td>N-Butyl-tert-butylamine</td>\n",
       "      <td>OAR</td>\n",
       "    </tr>\n",
       "    <tr>\n",
       "      <th>282</th>\n",
       "      <td>Piperoxan</td>\n",
       "      <td>OAR</td>\n",
       "    </tr>\n",
       "    <tr>\n",
       "      <th>283</th>\n",
       "      <td>Propanamide, N-(aminocarbonyl)-</td>\n",
       "      <td>OAR</td>\n",
       "    </tr>\n",
       "    <tr>\n",
       "      <th>284</th>\n",
       "      <td>Pyridine</td>\n",
       "      <td>OAR</td>\n",
       "    </tr>\n",
       "    <tr>\n",
       "      <th>285</th>\n",
       "      <td>Pyrolo[3,2-d]pyrimidin-2,4(1H,3H)-dione</td>\n",
       "      <td>OAR</td>\n",
       "    </tr>\n",
       "  </tbody>\n",
       "</table></div>"
      ],
      "text/plain": [
       "                                              Compound Class\n",
       "0    1,2,4-Benzenetricarboxylic acid, 1,2-dimethyl ...  Acid\n",
       "1                       1,3-Benzenediol, 4,5-dimethyl-  Acid\n",
       "2                                     2-Propenoic acid  Acid\n",
       "3                                          Acetic acid  Acid\n",
       "4                                        Butanoic acid  Acid\n",
       "..                                                 ...   ...\n",
       "281                            N-Butyl-tert-butylamine   OAR\n",
       "282                                          Piperoxan   OAR\n",
       "283                    Propanamide, N-(aminocarbonyl)-   OAR\n",
       "284                                           Pyridine   OAR\n",
       "285            Pyrolo[3,2-d]pyrimidin-2,4(1H,3H)-dione   OAR\n",
       "\n",
       "[286 rows x 2 columns]"
      ]
     },
     "execution_count": 3,
     "metadata": {},
     "output_type": "execute_result"
    }
   ],
   "source": [
    "database = pd.read_excel(\"Database.xlsx\")\n",
    "database\n"
   ]
  },
  {
   "cell_type": "markdown",
   "metadata": {},
   "source": [
    "## Carico il file di input con i dati da classificare"
   ]
  },
  {
   "cell_type": "code",
   "execution_count": 4,
   "metadata": {},
   "outputs": [
    {
     "data": {
      "text/html": [
       "<div><div id=2590f1ab-bff3-4ba8-a0d2-8a9d409a252f style=\"display:none; background-color:#9D6CFF; color:white; width:200px; height:30px; padding-left:5px; border-radius:4px; flex-direction:row; justify-content:space-around; align-items:center;\" onmouseover=\"this.style.backgroundColor='#BA9BF8'\" onmouseout=\"this.style.backgroundColor='#9D6CFF'\" onclick=\"window.commands?.execute('create-mitosheet-from-dataframe-output');\">See Full Dataframe in Mito</div> <script> if (window.commands.hasCommand('create-mitosheet-from-dataframe-output')) document.getElementById('2590f1ab-bff3-4ba8-a0d2-8a9d409a252f').style.display = 'flex' </script> <table border=\"1\" class=\"dataframe\">\n",
       "  <thead>\n",
       "    <tr style=\"text-align: right;\">\n",
       "      <th></th>\n",
       "      <th>RT</th>\n",
       "      <th>compound name</th>\n",
       "      <th>area</th>\n",
       "      <th>% area</th>\n",
       "      <th>Match factor</th>\n",
       "      <th>formula</th>\n",
       "      <th>area/area</th>\n",
       "    </tr>\n",
       "  </thead>\n",
       "  <tbody>\n",
       "    <tr>\n",
       "      <th>0</th>\n",
       "      <td>3.6318</td>\n",
       "      <td>Vinyl crotonate</td>\n",
       "      <td>3789.7</td>\n",
       "      <td>0.000108</td>\n",
       "      <td>85.1</td>\n",
       "      <td>C6H8O2</td>\n",
       "      <td>0.000279</td>\n",
       "    </tr>\n",
       "    <tr>\n",
       "      <th>1</th>\n",
       "      <td>41.8694</td>\n",
       "      <td>2'-Hydroxy-4'-methoxyacetophenone, acetate</td>\n",
       "      <td>6425.2</td>\n",
       "      <td>0.000184</td>\n",
       "      <td>71.6</td>\n",
       "      <td>C11H12O4</td>\n",
       "      <td>0.000474</td>\n",
       "    </tr>\n",
       "    <tr>\n",
       "      <th>2</th>\n",
       "      <td>7.0294</td>\n",
       "      <td>Piperoxan</td>\n",
       "      <td>8386.0</td>\n",
       "      <td>0.000240</td>\n",
       "      <td>71.1</td>\n",
       "      <td>C14H19NO2</td>\n",
       "      <td>0.000618</td>\n",
       "    </tr>\n",
       "    <tr>\n",
       "      <th>3</th>\n",
       "      <td>4.1265</td>\n",
       "      <td>Toluene</td>\n",
       "      <td>14020.0</td>\n",
       "      <td>0.000401</td>\n",
       "      <td>73.4</td>\n",
       "      <td>C7H8</td>\n",
       "      <td>0.001034</td>\n",
       "    </tr>\n",
       "    <tr>\n",
       "      <th>4</th>\n",
       "      <td>15.3945</td>\n",
       "      <td>3-Hexen-1-ol, acetate, (Z)-</td>\n",
       "      <td>14866.7</td>\n",
       "      <td>0.000425</td>\n",
       "      <td>80.9</td>\n",
       "      <td>C8H14O2</td>\n",
       "      <td>0.001096</td>\n",
       "    </tr>\n",
       "    <tr>\n",
       "      <th>...</th>\n",
       "      <td>...</td>\n",
       "      <td>...</td>\n",
       "      <td>...</td>\n",
       "      <td>...</td>\n",
       "      <td>...</td>\n",
       "      <td>...</td>\n",
       "      <td>...</td>\n",
       "    </tr>\n",
       "    <tr>\n",
       "      <th>407</th>\n",
       "      <td>2.1124</td>\n",
       "      <td>Methyl propionate</td>\n",
       "      <td>9189.7</td>\n",
       "      <td>0.000018</td>\n",
       "      <td>84.6</td>\n",
       "      <td>C4H8O2</td>\n",
       "      <td>0.000633</td>\n",
       "    </tr>\n",
       "    <tr>\n",
       "      <th>408</th>\n",
       "      <td>1.8454</td>\n",
       "      <td>Acetic acid</td>\n",
       "      <td>1731167.5</td>\n",
       "      <td>0.003334</td>\n",
       "      <td>97.9</td>\n",
       "      <td>C2H4O2</td>\n",
       "      <td>0.119330</td>\n",
       "    </tr>\n",
       "    <tr>\n",
       "      <th>409</th>\n",
       "      <td>1.8426</td>\n",
       "      <td>Oxetane, 3-(1-methylethyl)-</td>\n",
       "      <td>155616.0</td>\n",
       "      <td>0.000300</td>\n",
       "      <td>72.6</td>\n",
       "      <td>C6H12O</td>\n",
       "      <td>0.010727</td>\n",
       "    </tr>\n",
       "    <tr>\n",
       "      <th>410</th>\n",
       "      <td>1.7403</td>\n",
       "      <td>Acetaldehyde, hydroxy-</td>\n",
       "      <td>169419.7</td>\n",
       "      <td>0.000326</td>\n",
       "      <td>84.4</td>\n",
       "      <td>C2H4O2</td>\n",
       "      <td>0.011678</td>\n",
       "    </tr>\n",
       "    <tr>\n",
       "      <th>411</th>\n",
       "      <td>NaN</td>\n",
       "      <td>test</td>\n",
       "      <td>4000000.0</td>\n",
       "      <td>NaN</td>\n",
       "      <td>64.0</td>\n",
       "      <td>NaN</td>\n",
       "      <td>NaN</td>\n",
       "    </tr>\n",
       "  </tbody>\n",
       "</table></div>"
      ],
      "text/plain": [
       "          RT                               compound name       area    % area  \\\n",
       "0     3.6318                             Vinyl crotonate     3789.7  0.000108   \n",
       "1    41.8694  2'-Hydroxy-4'-methoxyacetophenone, acetate     6425.2  0.000184   \n",
       "2     7.0294                                   Piperoxan     8386.0  0.000240   \n",
       "3     4.1265                                     Toluene    14020.0  0.000401   \n",
       "4    15.3945                 3-Hexen-1-ol, acetate, (Z)-    14866.7  0.000425   \n",
       "..       ...                                         ...        ...       ...   \n",
       "407   2.1124                           Methyl propionate     9189.7  0.000018   \n",
       "408   1.8454                                 Acetic acid  1731167.5  0.003334   \n",
       "409   1.8426                 Oxetane, 3-(1-methylethyl)-   155616.0  0.000300   \n",
       "410   1.7403                      Acetaldehyde, hydroxy-   169419.7  0.000326   \n",
       "411      NaN                                        test  4000000.0       NaN   \n",
       "\n",
       "     Match factor    formula  area/area  \n",
       "0            85.1     C6H8O2   0.000279  \n",
       "1            71.6   C11H12O4   0.000474  \n",
       "2            71.1  C14H19NO2   0.000618  \n",
       "3            73.4       C7H8   0.001034  \n",
       "4            80.9    C8H14O2   0.001096  \n",
       "..            ...        ...        ...  \n",
       "407          84.6     C4H8O2   0.000633  \n",
       "408          97.9     C2H4O2   0.119330  \n",
       "409          72.6     C6H12O   0.010727  \n",
       "410          84.4     C2H4O2   0.011678  \n",
       "411          64.0        NaN        NaN  \n",
       "\n",
       "[412 rows x 7 columns]"
      ]
     },
     "execution_count": 4,
     "metadata": {},
     "output_type": "execute_result"
    }
   ],
   "source": [
    "input = pd.read_excel(\"Input.xlsx\")\n",
    "input\n"
   ]
  },
  {
   "cell_type": "code",
   "execution_count": 63,
   "metadata": {},
   "outputs": [],
   "source": [
    "def get_class(database, input, save_dropped_compounds):\n",
    "\n",
    "    # This function will eliminate compounds that do not meet the area and match factor or elemental composition criteria and classify the remaining compounds based on the database provided.\n",
    "    # This feature was written by M.Griot and you can find the original version at https://github.com/MGriot/Utility\n",
    "    #\n",
    "    # database: database su cui si basa la classificazione\n",
    "    # input: dati di input\n",
    "    # output: dati classificati in output\n",
    "    #\n",
    "\n",
    "\n",
    "    #message when you start the function\n",
    "    print(\"Starting the classification process...\")\n",
    "    #liste vuote usate nella classificazione\n",
    "    compounds = []  # lista di tutti i composti\n",
    "    class_compounds = []  # lista di tutte le classi dei composti\n",
    "\n",
    "    \n",
    "    a=0\n",
    "    no_match_value=[]\n",
    "    errate_formulae=[]\n",
    "    \n",
    "    #parte per eliminare le righe\n",
    "    print(\"I start removing compounds in the input that don't suit the parameters.\")\n",
    "    for i in tqdm(input[\"compound name\"]):\n",
    "        #removing compound with errate number for area and match factor\n",
    "        if input[\"area\"][a]<1e5 or input[\"Match factor\"][a]<70:\n",
    "            no_match_value.append(a)\n",
    "            \n",
    "        #removing all numbers from the string\n",
    "        s = input[\"formula\"][a]\n",
    "        try:\n",
    "            result = re.sub(r'[0-9]+', '', s)\n",
    "            #split the string into a list of elements\n",
    "            result = re.findall('[A-Z][^A-Z]*', result)\n",
    "        except:\n",
    "            result = \"\"\n",
    "        for i in result:\n",
    "            if \"F\" in i:\n",
    "                errate_formulae.append(a)\n",
    "            elif \"Cl\" in i:\n",
    "                errate_formulae.append(a)\n",
    "            elif \"S\" in i:\n",
    "                errate_formulae.append(a)\n",
    "            elif \"P\" in i:\n",
    "                errate_formulae.append(a)\n",
    "            elif \"Si\" in i:\n",
    "                errate_formulae.append(a)\n",
    "        a+=1     \n",
    "    #elimino tutte le righe che non passano i test per i valori e la formula\n",
    "    dropped_rows = np.unique(no_match_value + errate_formulae)\n",
    "\n",
    "    if save_dropped_compounds == True: #creo un file dei composti cancellati se metti True, se metti False ti mostro solo l'id dei composti cancellati\n",
    "        #creo un nuovo database con i composti eliminati\n",
    "        dropped_database = input.loc(0)[dropped_rows]\n",
    "        dropped_names=dropped_database[\"compound name\"]\n",
    "        dropped_rt=dropped_database[\"RT\"]\n",
    "        dropped_area=dropped_database[\"area\"]\n",
    "        dropped_area_=dropped_database[\"% area\"]\n",
    "        dropped_Match_factor=dropped_database[\"Match factor\"]\n",
    "        dropped_formula=dropped_database[\"formula\"]\n",
    "        dropped_area_area=dropped_database[\"area/area\"]\n",
    "\n",
    "        dropped_compounds = pd.DataFrame(list(zip(dropped_rt, dropped_names, dropped_area, dropped_area_, dropped_Match_factor, dropped_formula, dropped_area_area)),\n",
    "                          columns=[\"RT\", \"compound name\", \"area\", \"% area\", \"Match factor\", \"formula\", \"area/area\"])\n",
    "    else:\n",
    "        print(f\"Eliminated rows in input: {dropped_rows}\")\n",
    "        print(\"Remember, to find the compounds in the input file you need to add +1 to the previous numbers.\\n\")\n",
    "    \n",
    "    # controllo se esiste già un file di Dropped_compounds\n",
    "    if os.path.isfile('Dropped_compounds.xlsx'):\n",
    "        print(\"File \\\"Dropped_compounds.xlsx\\\" alredy exists in this directory.\\nIf you want to obtain a new one, delete it.\")\n",
    "    else:\n",
    "        print(\"File \\\"Dropped_compounds.xlsx\\\" will be saved in this directory.\")\n",
    "        # converto il dataframe in un file excel\n",
    "        dropped_compounds.to_excel(\"Dropped_compounds.xlsx\")\n",
    "\n",
    "    #creo il nuovo database con le righe ridotte    \n",
    "    new=input.drop(dropped_rows)\n",
    "        \n",
    "    #creo una lista di tutti i composti con la classe di appartenenza\n",
    "    print(\"\\nI begin to classify the input compounds based on the database.\")\n",
    "    for i in tqdm(new[\"compound name\"]):  # leggo i composti dall'input\n",
    "        # aggiungo il nome del i composto nella lista dei composti\n",
    "        compounds.append(i)\n",
    "        # controllo se il composto i è presente nel database, se si aggiungo la classe conosciuta\n",
    "        if i in database[\"Compound\"].to_numpy():\n",
    "            class_compounds.append(\n",
    "                database[\"Class\"][database[database[\"Compound\"] == i].index[0]])\n",
    "        else:  # se no, classifica il composto come sconosciuto\n",
    "            class_compounds.append(\"Unknown\")\n",
    "    \n",
    "    rt=new[\"RT\"]\n",
    "    area=new[\"area\"]\n",
    "    area_=new[\"% area\"]\n",
    "    Match_factor=new[\"Match factor\"]\n",
    "    formula=new[\"formula\"]\n",
    "    area_area=new[\"area/area\"]\n",
    "    \n",
    "    classified_compound = pd.DataFrame(list(zip(rt, compounds, class_compounds, area, area_, Match_factor, formula, area_area)),\n",
    "                          columns=[\"RT\", \"compound name\", \"Class\", \"area\", \"% area\", \"Match factor\", \"formula\", \"area/area\"])  # creo il dataframe con i dati classificati\n",
    "\n",
    "    print(\"Report of your input after the classification:\")\n",
    "    # print della descrizione dei composti classificati\n",
    "    print(classified_compound[\"Class\"].value_counts())\n",
    "\n",
    "    if os.path.isfile('Classified_compounds.xlsx'):  # controllo se esiste già un file di classified_compound\n",
    "        print(\"\\nFile \\\"Classified_compounds.xlsx\\\" alredy exists in this directory.\\nIf you want to obtain a new one, delete it.\")\n",
    "    else:\n",
    "        print(\"\\nFile \\\"Classified_compounds.xlsx\\\" will be saved in this directory.\")\n",
    "        # converto il dataframe in un file excel\n",
    "        classified_compound.to_excel(\"Classified_compounds.xlsx\")\n",
    "\n",
    "    print(\"\\nSee you next time ;)\")\n",
    "\n"
   ]
  },
  {
   "cell_type": "code",
   "execution_count": 64,
   "metadata": {},
   "outputs": [
    {
     "name": "stdout",
     "output_type": "stream",
     "text": [
      "Starting the classification process...\n",
      "I start removing compounds in the input that don't suit the parameters.\n"
     ]
    },
    {
     "name": "stderr",
     "output_type": "stream",
     "text": [
      "100%|██████████| 412/412 [00:00<00:00, 45732.63it/s]\n"
     ]
    },
    {
     "name": "stdout",
     "output_type": "stream",
     "text": [
      "File \"Dropped_compounds.xlsx\" alredy exists in this directory.\n",
      "If you want to obtain a new one, delete it.\n",
      "\n",
      "I begin to classify the input compounds based on the database.\n"
     ]
    },
    {
     "name": "stderr",
     "output_type": "stream",
     "text": [
      "100%|██████████| 228/228 [00:00<00:00, 4749.83it/s]"
     ]
    },
    {
     "name": "stdout",
     "output_type": "stream",
     "text": [
      "Report of your input after the classification:\n",
      "Unknown                 88\n",
      " Ketones and Etheres    49\n",
      "Alkyl Phenols           28\n",
      "Guaiacols               17\n",
      "Aromatics               12\n",
      "OAR                      9\n",
      "Acid                     9\n",
      "Syringol                 8\n",
      "Furans                   3\n",
      "Catechol                 3\n",
      "Sugars                   1\n",
      "Methoxybenzenes          1\n",
      "Name: Class, dtype: int64\n",
      "\n",
      "\n",
      "File \"Output.xlsx\" alredy exists in this directory.\n",
      "If you want to obtain a new one, delete it.\n",
      "\n",
      "See you next time ;)\n"
     ]
    },
    {
     "name": "stderr",
     "output_type": "stream",
     "text": [
      "\n"
     ]
    }
   ],
   "source": [
    "get_class(database=database, input=input, save_dropped_compounds=True)\n"
   ]
  },
  {
   "cell_type": "markdown",
   "metadata": {},
   "source": [
    "# Faster and easy method"
   ]
  },
  {
   "cell_type": "code",
   "execution_count": 1,
   "metadata": {},
   "outputs": [],
   "source": [
    "import pandas as pd\n",
    "\n",
    "from get_class import get_class "
   ]
  },
  {
   "cell_type": "code",
   "execution_count": 2,
   "metadata": {},
   "outputs": [],
   "source": [
    "database = pd.read_excel(\"Database.xlsx\")\n",
    "input = pd.read_excel(\"Input.xlsx\")\n"
   ]
  },
  {
   "cell_type": "code",
   "execution_count": 3,
   "metadata": {},
   "outputs": [
    {
     "name": "stdout",
     "output_type": "stream",
     "text": [
      "Starting the classification process...\n",
      "I start removing compounds in the input that don't suit the parameters.\n"
     ]
    },
    {
     "name": "stderr",
     "output_type": "stream",
     "text": [
      "100%|██████████| 412/412 [00:00<00:00, 34318.77it/s]\n"
     ]
    },
    {
     "name": "stdout",
     "output_type": "stream",
     "text": [
      "File \"Dropped_compounds.xlsx\" alredy exists in this directory.\n",
      "If you want to obtain a new one, delete it.\n",
      "\n",
      "I begin to classify the input compounds based on the database.\n"
     ]
    },
    {
     "name": "stderr",
     "output_type": "stream",
     "text": [
      "100%|██████████| 228/228 [00:00<00:00, 3123.36it/s]"
     ]
    },
    {
     "name": "stdout",
     "output_type": "stream",
     "text": [
      "Report of your input after the classification:\n",
      "Unknown                 88\n",
      " Ketones and Etheres    49\n",
      "Alkyl Phenols           28\n",
      "Guaiacols               17\n",
      "Aromatics               12\n",
      "OAR                      9\n",
      "Acid                     9\n",
      "Syringol                 8\n",
      "Furans                   3\n",
      "Catechol                 3\n",
      "Sugars                   1\n",
      "Methoxybenzenes          1\n",
      "Name: Class, dtype: int64\n",
      "\n",
      "File \"Classified_compounds.xlsx\" alredy exists in this directory.\n",
      "If you want to obtain a new one, delete it.\n",
      "\n",
      "See you next time ;)\n"
     ]
    },
    {
     "name": "stderr",
     "output_type": "stream",
     "text": [
      "\n"
     ]
    }
   ],
   "source": [
    "get_class(database=database, input=input, save_dropped_compounds=True)\n"
   ]
  },
  {
   "cell_type": "code",
   "execution_count": null,
   "metadata": {},
   "outputs": [],
   "source": []
  }
 ],
 "metadata": {
  "kernelspec": {
   "display_name": "Python 3 (ipykernel)",
   "language": "python",
   "name": "python3"
  },
  "language_info": {
   "codemirror_mode": {
    "name": "ipython",
    "version": 3
   },
   "file_extension": ".py",
   "mimetype": "text/x-python",
   "name": "python",
   "nbconvert_exporter": "python",
   "pygments_lexer": "ipython3",
   "version": "3.9.7"
  },
  "vscode": {
   "interpreter": {
    "hash": "ced987a247890006fadb174404bf884c2606133e9ca5a8bdda00b49ca7b4dc36"
   }
  }
 },
 "nbformat": 4,
 "nbformat_minor": 4
}
